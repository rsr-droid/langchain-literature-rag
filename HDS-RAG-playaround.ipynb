{
 "cells": [
  {
   "cell_type": "markdown",
   "metadata": {},
   "source": [
    "# Building RAG Chatbots with Langchain"
   ]
  },
  {
   "cell_type": "code",
   "execution_count": 2,
   "metadata": {},
   "outputs": [],
   "source": [
    "# !python -m venv openai-env"
   ]
  },
  {
   "cell_type": "code",
   "execution_count": 3,
   "metadata": {},
   "outputs": [],
   "source": [
    "# !pip install -r requirements.txt"
   ]
  },
  {
   "cell_type": "code",
   "execution_count": 4,
   "metadata": {},
   "outputs": [],
   "source": [
    "!openai-env\\Scripts\\activate"
   ]
  },
  {
   "cell_type": "code",
   "execution_count": 5,
   "metadata": {},
   "outputs": [
    {
     "data": {
      "text/plain": [
       "True"
      ]
     },
     "execution_count": 5,
     "metadata": {},
     "output_type": "execute_result"
    }
   ],
   "source": [
    "import os\n",
    "from dotenv import load_dotenv\n",
    "load_dotenv()"
   ]
  },
  {
   "cell_type": "code",
   "execution_count": 6,
   "metadata": {},
   "outputs": [],
   "source": [
    "pdf_folder_path = 'C:\\\\Users\\\\Rajan\\\\OneDrive - University College London\\\\MSc - Multimodal Project\\\\Literature\\\\Papers\\\\'"
   ]
  },
  {
   "cell_type": "code",
   "execution_count": 7,
   "metadata": {},
   "outputs": [
    {
     "data": {
      "text/plain": [
       "813"
      ]
     },
     "execution_count": 7,
     "metadata": {},
     "output_type": "execute_result"
    }
   ],
   "source": [
    "from langchain.document_loaders import PyPDFLoader,PyPDFDirectoryLoader\n",
    "\n",
    "loader = PyPDFDirectoryLoader(pdf_folder_path)\n",
    "docs = loader.load()\n",
    "len(docs)\n"
   ]
  },
  {
   "cell_type": "code",
   "execution_count": 8,
   "metadata": {},
   "outputs": [
    {
     "name": "stdout",
     "output_type": "stream",
     "text": [
      "UniXGen: A Uniﬁed Vision-Language Model for\n",
      "Multi-View Chest X-ray Generation and Report\n",
      "Generation\n",
      "Hyungyung Lee1, Da Young Lee2∗, Wonjae Kim3, Jin-Hwa Kim3,4\n",
      "Tackeun Kim5, Jihang Kim5, Leonard Sunwoo5, Edward Choi1\n",
      "1KAIST,2Deep-in-Sight Co.,3Naver AI Lab,4SNU AIIS,\n",
      "5Seoul National University Bundang Hospital\n",
      "ttumyche@kaist.ac.kr, dyan.lee717@gmail.com, wonjae.kim@navercorp.com ,\n",
      "j1nhwa.kim@navercorp.com, tackeun.kim@snu.ac.kr, radio622@gmail.com ,\n",
      "leonard.sunwoo@gmail.com, edwardchoi@kaist.ac.kr\n",
      "Abstract\n",
      "Generated synthetic data in medical research can substitute privacy and security-\n",
      "sensitive data with a large-scale curated dataset, reducing data collection and\n",
      "annotation costs. As part of this effort, we propose UniXGen, a uniﬁed chest X-ray\n",
      "and report generation model, with the following contributions. First, we design a\n",
      "uniﬁed model for bidirectional chest X-ray and report generation by adopting a\n",
      "vector quantization method to discretize chest X-rays into discrete visual tokens and\n",
      "formulating both tasks as sequence generation tasks. Second, we introduce several\n",
      "special tokens to generate chest X-rays with speciﬁc views that can be useful when\n",
      "the desired views are unavailable. Furthermore, UniXGen can ﬂexibly take various\n",
      "inputs from single to multiple views to take advantage of the additional ﬁndings\n",
      "available in other X-ray views. We adopt an efﬁcient transformer for computational\n",
      "and memory efﬁciency to handle the long-range input sequence of multi-view chest\n",
      "X-rays with high resolution and long paragraph reports. In extensive experiments,\n",
      "we show that our uniﬁed model has a synergistic effect on both generation tasks, as\n",
      "opposed to training only the task-speciﬁc models. We also ﬁnd that view-speciﬁc\n",
      "special tokens can distinguish between different views and properly generate\n",
      "speciﬁc views even if they do not exist in the dataset, and utilizing multi-view chest\n",
      "X-rays can faithfully capture the abnormal ﬁndings in the additional X-rays. The\n",
      "source code is publicly available at: https://github.com/ttumyche/UniXGen.\n",
      "1 Introduction\n",
      "Patient privacy, imbalanced class distribution, the need for trained clinicians, and the lack of large\n",
      "publicly available datasets are chronic problems in medical research. In an effort to alleviate these\n",
      "problems, research on synthetic data generation has been actively explored. Among them, the\n",
      "combination of chest radiographs and radiology reports has made signiﬁcant progress, as it provides a\n",
      "comprehensive examination of the patient’s condition that helps diagnose and detect various diseases.\n",
      "In response, we propose a uniﬁed chest X-ray and radiology report generation model with multiple\n",
      "views, namely UniXGen, with the following improvements.\n",
      "First, we design a uniﬁed model for bidirectional chest X-ray and report generation. Although these\n",
      "tasks are bidirectional, existing works propose task-speciﬁc architectures and develop them separately.\n",
      "We simplify the design effort by utilizing VQ-GAN [ 7] as an image tokenizer. This approach allows\n",
      "∗Work done at KAIST\n",
      "Preprint.arXiv:2302.12172v4  [eess.IV]  11 Apr 2023\n"
     ]
    }
   ],
   "source": [
    "print(docs[0].page_content)"
   ]
  },
  {
   "cell_type": "markdown",
   "metadata": {},
   "source": [
    "To count the number of tokens that gpt-3.5-turbo will use for some text we need to initialize the tiktoken tokenizer."
   ]
  },
  {
   "cell_type": "code",
   "execution_count": 9,
   "metadata": {},
   "outputs": [],
   "source": [
    "import tiktoken\n",
    "\n",
    "tokenizer = tiktoken.get_encoding('cl100k_base')\n",
    "\n",
    "# create the length function\n",
    "def tiktoken_len(text):\n",
    "    tokens = tokenizer.encode(\n",
    "        text,\n",
    "        disallowed_special=()\n",
    "    )\n",
    "    return len(tokens)"
   ]
  },
  {
   "cell_type": "markdown",
   "metadata": {},
   "source": [
    "Note that for the tokenizer we defined the encoder as \"cl100k_base\". This is a specific tiktoken encoder which is used by gpt-3.5-turbo, as well as gpt-4, and text-embedding-ada-002 which are models supported by OpenAI at the time of this writing. "
   ]
  },
  {
   "cell_type": "code",
   "execution_count": 10,
   "metadata": {},
   "outputs": [
    {
     "data": {
      "text/plain": [
       "<Encoding 'cl100k_base'>"
      ]
     },
     "execution_count": 10,
     "metadata": {},
     "output_type": "execute_result"
    }
   ],
   "source": [
    "tiktoken.encoding_for_model('gpt-3.5-turbo')"
   ]
  },
  {
   "cell_type": "markdown",
   "metadata": {},
   "source": [
    "Using the __tiktoken_len__ function, let's count and visualize the number of tokens across our webpages."
   ]
  },
  {
   "cell_type": "code",
   "execution_count": 11,
   "metadata": {},
   "outputs": [],
   "source": [
    "token_counts = [tiktoken_len(doc.page_content) for doc in docs]"
   ]
  },
  {
   "cell_type": "markdown",
   "metadata": {},
   "source": [
    "Let's see min, average, and max values:"
   ]
  },
  {
   "cell_type": "code",
   "execution_count": 12,
   "metadata": {},
   "outputs": [
    {
     "name": "stdout",
     "output_type": "stream",
     "text": [
      "Min: 27\n",
      "Avg: 1129\n",
      "Max: 32261\n"
     ]
    }
   ],
   "source": [
    "print(f\"\"\"Min: {min(token_counts)}\n",
    "Avg: {int(sum(token_counts) / len(token_counts))}\n",
    "Max: {max(token_counts)}\"\"\")"
   ]
  },
  {
   "cell_type": "code",
   "execution_count": 13,
   "metadata": {},
   "outputs": [
    {
     "data": {
      "image/png": "[encoded data removed]",
      "text/plain": [
       "<Figure size 1200x600 with 1 Axes>"
      ]
     },
     "metadata": {},
     "output_type": "display_data"
    }
   ],
   "source": [
    "import matplotlib.pyplot as plt\n",
    "import seaborn as sns\n",
    "\n",
    "# set style and color palette for the plot\n",
    "sns.set_style(\"whitegrid\")\n",
    "sns.set_palette(\"muted\")\n",
    "\n",
    "# create histogram\n",
    "plt.figure(figsize=(12, 6))\n",
    "sns.histplot(token_counts, kde=False, bins=50)\n",
    "\n",
    "# customize the plot info\n",
    "plt.title(\"Token Counts Histogram\")\n",
    "plt.xlabel(\"Token Count\")\n",
    "plt.ylabel(\"Frequency\")\n",
    "\n",
    "plt.show()"
   ]
  },
  {
   "cell_type": "markdown",
   "metadata": {},
   "source": [
    "## Chunking the Text\n",
    "At the time of writing, gpt-3.5-turbo supports a context window of 4096 tokens — that means that input tokens + generated ( / completion) output tokens, cannot total more than 4096 without hitting an error.\n",
    "\n",
    "So we 100% need to keep below this. If we assume a very safe margin of ~2000 tokens for the input prompt into gpt-3.5-turbo, leaving ~2000 tokens for conversation history and completion.\n",
    "\n",
    "With this ~2000 token limit we may want to include five snippets of relevant information, meaning each snippet can be no more than 400 token long.\n",
    "\n",
    "To create these snippets we use the RecursiveCharacterTextSplitter from LangChain. To measure the length of snippets we also need a length function. This is a function that consumes text, counts the number of tokens within the text (after tokenization using the gpt-3.5-turbo tokenizer), and returns that number. "
   ]
  },
  {
   "cell_type": "code",
   "execution_count": 14,
   "metadata": {},
   "outputs": [],
   "source": [
    "from langchain.text_splitter import RecursiveCharacterTextSplitter\n",
    "\n",
    "text_splitter = RecursiveCharacterTextSplitter(\n",
    "    chunk_size=400,\n",
    "    chunk_overlap=20,  # number of tokens overlap between chunks\n",
    "    length_function=tiktoken_len,\n",
    "    separators=['\\n\\n','\\n', ' ', '']\n",
    ")"
   ]
  },
  {
   "cell_type": "markdown",
   "metadata": {},
   "source": [
    "Then we split the text for a document like so:"
   ]
  },
  {
   "cell_type": "code",
   "execution_count": 15,
   "metadata": {},
   "outputs": [
    {
     "data": {
      "text/plain": [
       "3"
      ]
     },
     "execution_count": 15,
     "metadata": {},
     "output_type": "execute_result"
    }
   ],
   "source": [
    "chunks = text_splitter.split_text(docs[5].page_content)\n",
    "len(chunks)"
   ]
  },
  {
   "cell_type": "code",
   "execution_count": 16,
   "metadata": {},
   "outputs": [
    {
     "data": {
      "text/plain": [
       "(391, 374, 112)"
      ]
     },
     "execution_count": 16,
     "metadata": {},
     "output_type": "execute_result"
    }
   ],
   "source": [
    "tiktoken_len(chunks[0]), tiktoken_len(chunks[1]), tiktoken_len(chunks[2])"
   ]
  },
  {
   "cell_type": "code",
   "execution_count": 17,
   "metadata": {},
   "outputs": [
    {
     "data": {
      "text/plain": [
       "'F1.\\n4.2.3 Human Evaluation\\nUsing 100 triples of an original chest X-ray generated chest X-rays from our model and a baseline,\\nwe ask three board-certiﬁed clinicians to evaluate each chest X-ray on three aspects: (1) realism, (2)\\nalignment with the given report, and (3) the view position among PA, AP, and LATERAL views. Both\\n(1) and (2) are rated on a scale from 1 (worst) to 5 (best). The triples consist of 33 triples from PA and\\nAP and 34 triples from LATERAL. The clinicians consist of two radiologists and one neurosurgeon,\\nand the X-rays are presented in random order for each triple.\\n4.3 Experiment Design\\nExperiments are designed to investigate the followings:\\nThe Advantage of the Uniﬁed Model\\nWe evaluate the advantage of a bidirectional uniﬁed model compared to separate models for chest\\nX-ray and radiology report generation. There are four variants: 1) Single AP, 2) Single PA, 3)\\nSingle LAT. , and 4) Single report . Each model is only trained to maximize the log-likelihood of the\\ntokens corresponding to its speciﬁc modality.\\nThe Effect of Multi-view Chest X-rays\\nTo evaluate the effect of using multi-view chest X-rays on the generation quality, we divide the test\\ndataset into three groups based on the number of chest X-rays per study. These groups include studies\\nwith one X-ray (S w/1), two X-rays (S w/2), and three X-rays (S w/3). We evaluate our model by\\nincrementally increasing the number of input chest X-rays within each group. For example, in the'"
      ]
     },
     "execution_count": 17,
     "metadata": {},
     "output_type": "execute_result"
    }
   ],
   "source": [
    "chunks[1]"
   ]
  },
  {
   "cell_type": "markdown",
   "metadata": {},
   "source": [
    "For docs[5] we created 2 chunks of token length 391, 374 and 112."
   ]
  },
  {
   "cell_type": "markdown",
   "metadata": {},
   "source": [
    "## Building the Knowledge Base - Vector Database"
   ]
  },
  {
   "cell_type": "code",
   "execution_count": 18,
   "metadata": {},
   "outputs": [],
   "source": [
    "from langchain.embeddings.openai import OpenAIEmbeddings\n",
    "import faiss\n",
    "import numpy as np\n",
    "\n",
    "# Create a FAISS index for the specified dimension\n",
    "dimension = 1536\n",
    "index = faiss.IndexFlatL2(dimension)\n",
    "\n",
    "# get openai api key from platform.openai.com\n",
    "OPENAI_API_KEY = os.getenv('OPENAI_API_KEY') or getpass(\"OpenAI API Key: \")\n",
    "\n",
    "# Embedding model\n",
    "embed_model = OpenAIEmbeddings(model=\"text-embedding-ada-002\", openai_api_key=OPENAI_API_KEY)"
   ]
  },
  {
   "cell_type": "code",
   "execution_count": 19,
   "metadata": {},
   "outputs": [
    {
     "name": "stderr",
     "output_type": "stream",
     "text": [
      "  0%|          | 0/813 [00:00<?, ?it/s]"
     ]
    },
    {
     "name": "stderr",
     "output_type": "stream",
     "text": [
      "100%|██████████| 813/813 [11:24<00:00,  1.19it/s]  \n"
     ]
    }
   ],
   "source": [
    "import tqdm\n",
    "import time\n",
    "\n",
    "texts = []\n",
    "metadatas = []\n",
    "embeddings = [] \n",
    "\n",
    "# Loop over the documents\n",
    "for doc in tqdm.tqdm(docs):  # Added tqdm for progress tracking\n",
    "    # Extract the text content from each Document object\n",
    "    doc_text = doc.page_content\n",
    "    # Split text into chunks\n",
    "    chunks = text_splitter.split_text(doc_text)\n",
    "    # Create individual metadata dicts for each chunk\n",
    "    record_metadatas = [{\"chunk\": j, \"text\": doc_text} for j, doc_text in enumerate(chunks)]\n",
    "\n",
    "    # append these to current batches\n",
    "    texts.extend(chunks)\n",
    "    metadatas.extend(record_metadatas)\n",
    "    \n",
    "\n",
    "    for chunk in chunks:\n",
    "        # Embed each chunk\n",
    "        embed = embed_model.embed_documents([chunk])\n",
    "        embed = np.array(embed).astype('float32')\n",
    "        embeddings.extend(embed)  # Store embeddings in a list\n",
    "        index.add(embed)"
   ]
  },
  {
   "cell_type": "markdown",
   "metadata": {},
   "source": [
    "# Quering the VectorStore"
   ]
  },
  {
   "cell_type": "code",
   "execution_count": 20,
   "metadata": {},
   "outputs": [],
   "source": [
    "k = 4\n",
    "xq = np.array(embed_model.embed_query(\"what is the flamingo model\")).astype('float32')\n",
    "if xq.ndim == 1:\n",
    "    xq = xq.reshape(1, -1)\n"
   ]
  },
  {
   "cell_type": "code",
   "execution_count": 21,
   "metadata": {},
   "outputs": [
    {
     "name": "stdout",
     "output_type": "stream",
     "text": [
      "[[1108 1617 2502 2726]]\n"
     ]
    }
   ],
   "source": [
    "D, I = index.search(xq, k)  # search\n",
    "print(I)"
   ]
  },
  {
   "cell_type": "code",
   "execution_count": 22,
   "metadata": {},
   "outputs": [
    {
     "name": "stdout",
     "output_type": "stream",
     "text": [
      "Indexes: [[1108 1617 2502 2726]]\n",
      "Results for Query 0:\n",
      "🦩\n",
      "Flamingo: a Visual Language Model\n",
      "for Few-Shot Learning\n",
      "Jean-Baptiste Alayrac*,‡Jeff Donahue*Pauline Luc*Antoine Miech*\n",
      "Iain Barr†Yana Hasson†Karel Lenc†Arthur Mensch†Katie Millican†\n",
      "Malcolm Reynolds†Roman Ring†Eliza Rutherford†Serkan Cabi Tengda Han\n",
      "Zhitao Gong Sina Samangooei Marianne Monteiro Jacob Menick\n",
      "Sebastian Borgeaud Andrew Brock Aida Nematzadeh Sahand Sharifzadeh\n",
      "Mikolaj Binkowski Ricardo Barreira Oriol Vinyals Andrew Zisserman\n",
      "Karen Simonyan*,‡\n",
      "*Equal contributions, ordered alphabetically,†Equal contributions, ordered alphabetically,\n",
      "‡Equal senior contributions\n",
      "DeepMind\n",
      "Abstract\n",
      "Building models that can be rapidly adapted to novel tasks using only a handful of\n",
      "annotated examples is an open challenge for multimodal machine learning research.\n",
      "We introduce Flamingo, a family of Visual Language Models (VLM) with this\n",
      "ability. We propose key architectural innovations to: (i) bridge powerful pretrained\n",
      "vision-only and language-only models, (ii) handle sequences of arbitrarily inter-\n",
      "leaved visual and textual data, and (iii) seamlessly ingest images or videos as\n",
      "inputs. Thanks to their ﬂexibility, Flamingo models can be trained on large-scale\n",
      "multimodal web corpora containing arbitrarily interleaved text and images, which\n",
      "is key to endow them with in-context few-shot learning capabilities. We perform a\n",
      "thorough evaluation of our models, exploring and measuring their ability to rapidly\n",
      "adapt to a variety of image and video tasks. These include open-ended tasks such\n",
      "as visual question-answering, where the model is prompted with a question which\n",
      "enhance the domain specific capability of the general domain flamingo model, DeMMo inserts an\n",
      "additional domain specific medical encoder to the perceiver resampler of flamingo. A parameter ef-\n",
      "ficient prompt tuning method is adopted to fine-tune the model for medical domain while preserving\n",
      "its generalization ability.\n",
      "5.1 F LAMINGO AS MODEL BASIS\n",
      "Flamingo is a family of vision language model that is capable of generating language conditioned\n",
      "on interleaved text and image sequences. By connecting visual encoder and LLM with a perceiver\n",
      "resampler, Flamingo models the likelihood of text output yconditioned on interleaved image and\n",
      "text input as a next-token prediction task: pθ(y|x) =QL\n",
      "l=1p(yl|y<l, x<l), where y<landx<lare\n",
      "the sets of text and image tokens preceding yl, thel-th input text token.\n",
      "References\n",
      "[1]Jean-Baptiste Alayrac, Jeff Donahue, Pauline Luc, Antoine Miech, Iain Barr, Yana Hasson, Karel Lenc,\n",
      "Arthur Mensch, Katie Millican, Malcolm Reynolds, Roman Ring, Eliza Rutherford, Serkan Cabi, Tengda\n",
      "Han, Zhitao Gong, Sina Samangooei, Marianne Monteiro, Jacob Menick, Sebastian Borgeaud, Andy\n",
      "Brock, Aida Nematzadeh, Sahand Sharifzadeh, Mikolaj Binkowski, Ricardo Barreira, Oriol Vinyals,\n",
      "Andrew Zisserman, and Karen Simonyan. Flamingo: a visual language model for few-shot learning. In\n",
      "Advances in Neural Information Processing Systems (NeurIPS) , 2022.\n",
      "[2]Omar Alfarghaly, Rana Khaled, Abeer Elkorany, Maha Helal, and Aly Fahmy. Automated radiology\n",
      "report generation using conditioned transformers. Informatics in Medicine Unlocked , 24:100557, 2021.\n",
      "[3]Rohan Anil, Andrew M. Dai, Orhan Firat, Melvin Johnson, Dmitry Lepikhin, Alexandre Tachard\n",
      "Passos, Siamak Shakeri, Emanuel Taropa, Paige Bailey, Z. Chen, Eric Chu, J. Clark, Laurent El Shafey,\n",
      "Yanping Huang, Kathleen S. Meier-Hellstern, Gaurav Mishra, Erica Moreira, Mark Omernick, Kevin\n",
      "Robinson, Sebastian Ruder, Yi Tay, Kefan Xiao, Yuanzhong Xu, Yujing Zhang, Gustavo Hernandez\n",
      "References\n",
      "[1]Jean-Baptiste Alayrac, Jeff Donahue, Pauline Luc, Antoine Miech, Iain Barr, Yana Hasson, Karel Lenc,\n",
      "Arthur Mensch, Katie Millican, Malcolm Reynolds, Roman Ring, Eliza Rutherford, Serkan Cabi, Tengda\n",
      "Han, Zhitao Gong, Sina Samangooei, Marianne Monteiro, Jacob Menick, Sebastian Borgeaud, Andy\n",
      "Brock, Aida Nematzadeh, Sahand Sharifzadeh, Mikolaj Binkowski, Ricardo Barreira, Oriol Vinyals,\n",
      "Andrew Zisserman, and Karen Simonyan. Flamingo: a visual language model for few-shot learning. In\n",
      "Advances in Neural Information Processing Systems (NeurIPS) , 2022.\n",
      "[2]Omar Alfarghaly, Rana Khaled, Abeer Elkorany, Maha Helal, and Aly Fahmy. Automated radiology\n",
      "report generation using conditioned transformers. Informatics in Medicine Unlocked , 24:100557, 2021.\n",
      "[3]Rohan Anil, Andrew M. Dai, Orhan Firat, Melvin Johnson, Dmitry Lepikhin, Alexandre Tachard\n",
      "Passos, Siamak Shakeri, Emanuel Taropa, Paige Bailey, Z. Chen, Eric Chu, J. Clark, Laurent El Shafey,\n",
      "Yanping Huang, Kathleen S. Meier-Hellstern, Gaurav Mishra, Erica Moreira, Mark Omernick, Kevin\n",
      "Robinson, Sebastian Ruder, Yi Tay, Kefan Xiao, Yuanzhong Xu, Yujing Zhang, Gustavo Hernandez\n"
     ]
    }
   ],
   "source": [
    "# Perform the FAISS search\n",
    "D, I = index.search(xq, k)  # I contains the indexes of the closest vectors\n",
    "print(\"Indexes:\", I)\n",
    "\n",
    "# Retrieve the corresponding texts\n",
    "for i, indexes in enumerate(I):\n",
    "    print(f\"Results for Query {i}:\")\n",
    "    for idx in indexes:\n",
    "        if idx >= 0:  # Check if the index is valid\n",
    "            print(texts[idx])\n",
    "        else:\n",
    "            print(\"No valid result for this index.\")"
   ]
  },
  {
   "cell_type": "code",
   "execution_count": 23,
   "metadata": {},
   "outputs": [
    {
     "name": "stdout",
     "output_type": "stream",
     "text": [
      "Indexes: [[1108 1617 2502 2726]]\n"
     ]
    }
   ],
   "source": [
    "# Perform the FAISS search\n",
    "D, I = index.search(xq, k)  # I contains the indexes of the closest vectors\n",
    "print(\"Indexes:\", I)\n",
    "\n",
    "context_texts = []\n",
    "for i, indexes in enumerate(I):\n",
    "    for idx in indexes:\n",
    "        context = metadatas[idx]['text']\n",
    "        context_texts.append(context)\n"
   ]
  },
  {
   "cell_type": "code",
   "execution_count": 24,
   "metadata": {},
   "outputs": [],
   "source": [
    "def generate_rag_prompt(query, embed_model, index, k=5):\n",
    "    \"\"\"\n",
    "    Generates a prompt for a Retrieve-and-Generate (RAG) task using a FAISS database for similarity search.\n",
    "\n",
    "    Parameters:\n",
    "    - query: The user's question or query as a string.\n",
    "    - embed_model: The embedding model used to convert text to vectors.\n",
    "    - index: The FAISS index containing the embeddings.\n",
    "    - k: The number of similar documents to retrieve.\n",
    "\n",
    "    Returns:\n",
    "    A string that serves as a prompt for the language model, incorporating context from the similarity search.\n",
    "    \"\"\"\n",
    "\n",
    "    # Convert the query to a vector using the embedding model\n",
    "    query_vector = np.array(embed_model.embed_query(query)).astype('float32')\n",
    "    if query_vector.ndim == 1:\n",
    "        query_vector = xq.reshape(1, -1)\n",
    "    \n",
    "    # Perform the similarity search in the FAISS index\n",
    "    D, I = index.search(query_vector, k)\n",
    "    \n",
    "    # Retrieve and format the text of the relevant document chunks\n",
    "    context_texts = []\n",
    "    for i, indexes in enumerate(I):\n",
    "        for idx in indexes:\n",
    "            context = metadatas[idx]['text']\n",
    "            context_texts.append(context)\n",
    "    \n",
    "    # Construct the prompt by combining the query with the retrieved contexts\n",
    "    prompt = f\"Question: {query}\\n\\n\"\n",
    "    prompt += \"Relevant information:\\n\"\n",
    "    for i, text in enumerate(context_texts, start=1):\n",
    "        prompt += f\"\\n{i}. {text}\\n\"\n",
    "    \n",
    "    return prompt"
   ]
  },
  {
   "cell_type": "code",
   "execution_count": 25,
   "metadata": {},
   "outputs": [
    {
     "name": "stdout",
     "output_type": "stream",
     "text": [
      "Question: what is the flamingo model?\n",
      "\n",
      "Relevant information:\n",
      "\n",
      "1. 🦩\n",
      "Flamingo: a Visual Language Model\n",
      "for Few-Shot Learning\n",
      "Jean-Baptiste Alayrac*,‡Jeff Donahue*Pauline Luc*Antoine Miech*\n",
      "Iain Barr†Yana Hasson†Karel Lenc†Arthur Mensch†Katie Millican†\n",
      "Malcolm Reynolds†Roman Ring†Eliza Rutherford†Serkan Cabi Tengda Han\n",
      "Zhitao Gong Sina Samangooei Marianne Monteiro Jacob Menick\n",
      "Sebastian Borgeaud Andrew Brock Aida Nematzadeh Sahand Sharifzadeh\n",
      "Mikolaj Binkowski Ricardo Barreira Oriol Vinyals Andrew Zisserman\n",
      "Karen Simonyan*,‡\n",
      "*Equal contributions, ordered alphabetically,†Equal contributions, ordered alphabetically,\n",
      "‡Equal senior contributions\n",
      "DeepMind\n",
      "Abstract\n",
      "Building models that can be rapidly adapted to novel tasks using only a handful of\n",
      "annotated examples is an open challenge for multimodal machine learning research.\n",
      "We introduce Flamingo, a family of Visual Language Models (VLM) with this\n",
      "ability. We propose key architectural innovations to: (i) bridge powerful pretrained\n",
      "vision-only and language-only models, (ii) handle sequences of arbitrarily inter-\n",
      "leaved visual and textual data, and (iii) seamlessly ingest images or videos as\n",
      "inputs. Thanks to their ﬂexibility, Flamingo models can be trained on large-scale\n",
      "multimodal web corpora containing arbitrarily interleaved text and images, which\n",
      "is key to endow them with in-context few-shot learning capabilities. We perform a\n",
      "thorough evaluation of our models, exploring and measuring their ability to rapidly\n",
      "adapt to a variety of image and video tasks. These include open-ended tasks such\n",
      "as visual question-answering, where the model is prompted with a question which\n",
      "\n",
      "2. enhance the domain specific capability of the general domain flamingo model, DeMMo inserts an\n",
      "additional domain specific medical encoder to the perceiver resampler of flamingo. A parameter ef-\n",
      "ficient prompt tuning method is adopted to fine-tune the model for medical domain while preserving\n",
      "its generalization ability.\n",
      "5.1 F LAMINGO AS MODEL BASIS\n",
      "Flamingo is a family of vision language model that is capable of generating language conditioned\n",
      "on interleaved text and image sequences. By connecting visual encoder and LLM with a perceiver\n",
      "resampler, Flamingo models the likelihood of text output yconditioned on interleaved image and\n",
      "text input as a next-token prediction task: pθ(y|x) =QL\n",
      "l=1p(yl|y<l, x<l), where y<landx<lare\n",
      "the sets of text and image tokens preceding yl, thel-th input text token.\n",
      "\n",
      "3. References\n",
      "[1]Jean-Baptiste Alayrac, Jeff Donahue, Pauline Luc, Antoine Miech, Iain Barr, Yana Hasson, Karel Lenc,\n",
      "Arthur Mensch, Katie Millican, Malcolm Reynolds, Roman Ring, Eliza Rutherford, Serkan Cabi, Tengda\n",
      "Han, Zhitao Gong, Sina Samangooei, Marianne Monteiro, Jacob Menick, Sebastian Borgeaud, Andy\n",
      "Brock, Aida Nematzadeh, Sahand Sharifzadeh, Mikolaj Binkowski, Ricardo Barreira, Oriol Vinyals,\n",
      "Andrew Zisserman, and Karen Simonyan. Flamingo: a visual language model for few-shot learning. In\n",
      "Advances in Neural Information Processing Systems (NeurIPS) , 2022.\n",
      "[2]Omar Alfarghaly, Rana Khaled, Abeer Elkorany, Maha Helal, and Aly Fahmy. Automated radiology\n",
      "report generation using conditioned transformers. Informatics in Medicine Unlocked , 24:100557, 2021.\n",
      "[3]Rohan Anil, Andrew M. Dai, Orhan Firat, Melvin Johnson, Dmitry Lepikhin, Alexandre Tachard\n",
      "Passos, Siamak Shakeri, Emanuel Taropa, Paige Bailey, Z. Chen, Eric Chu, J. Clark, Laurent El Shafey,\n",
      "Yanping Huang, Kathleen S. Meier-Hellstern, Gaurav Mishra, Erica Moreira, Mark Omernick, Kevin\n",
      "Robinson, Sebastian Ruder, Yi Tay, Kefan Xiao, Yuanzhong Xu, Yujing Zhang, Gustavo Hernandez\n",
      "\n"
     ]
    }
   ],
   "source": [
    "query = \"what is the flamingo model?\"\n",
    "prompt = generate_rag_prompt(query, embed_model, index, k=3)\n",
    "print(prompt)"
   ]
  },
  {
   "cell_type": "code",
   "execution_count": 26,
   "metadata": {},
   "outputs": [],
   "source": [
    "import os\n",
    "from langchain.chat_models import ChatOpenAI\n",
    "\n",
    "chat = ChatOpenAI(\n",
    "    openai_api_key=os.environ[\"OPENAI_API_KEY\"],\n",
    "    model='gpt-3.5-turbo'\n",
    ")"
   ]
  },
  {
   "cell_type": "code",
   "execution_count": 27,
   "metadata": {},
   "outputs": [],
   "source": [
    "from langchain.schema import (\n",
    "    SystemMessage,\n",
    "    HumanMessage,\n",
    "    AIMessage\n",
    ")\n",
    "\n",
    "messages = [\n",
    "    SystemMessage(content=\"You are a helpful assistant.\"),\n",
    "    HumanMessage(content=\"Hi AI, how are you today?\"),\n",
    "    AIMessage(content=\"I'm great thank you. How can I help you?\"),\n",
    "    HumanMessage(content=\"I'd like to understand string theory.\")\n",
    "]"
   ]
  },
  {
   "cell_type": "code",
   "execution_count": 28,
   "metadata": {},
   "outputs": [
    {
     "data": {
      "text/plain": [
       "AIMessage(content='String theory is a theoretical framework in physics that attempts to explain the fundamental nature of particles and forces in the universe. It proposes that the most basic building blocks of the universe are not point-like particles, but rather tiny vibrating strings. These strings can vibrate at different frequencies, giving rise to different particles and forces.\\n\\nString theory is a complex and mathematically rigorous theory that attempts to unify quantum mechanics and general relativity, which are currently the two main pillars of modern physics. While string theory has not yet been proven experimentally, it has generated a lot of interest and research in the physics community due to its potential to provide a unified description of all fundamental forces in the universe.\\n\\nIf you have any specific questions about string theory or would like more detailed information, feel free to ask!')"
      ]
     },
     "execution_count": 28,
     "metadata": {},
     "output_type": "execute_result"
    }
   ],
   "source": [
    "res = chat(messages)\n",
    "res"
   ]
  },
  {
   "cell_type": "code",
   "execution_count": 29,
   "metadata": {},
   "outputs": [
    {
     "name": "stdout",
     "output_type": "stream",
     "text": [
      "String theory is a theoretical framework in physics that attempts to explain the fundamental nature of particles and forces in the universe. It proposes that the most basic building blocks of the universe are not point-like particles, but rather tiny vibrating strings. These strings can vibrate at different frequencies, giving rise to different particles and forces.\n",
      "\n",
      "String theory is a complex and mathematically rigorous theory that attempts to unify quantum mechanics and general relativity, which are currently the two main pillars of modern physics. While string theory has not yet been proven experimentally, it has generated a lot of interest and research in the physics community due to its potential to provide a unified description of all fundamental forces in the universe.\n",
      "\n",
      "If you have any specific questions about string theory or would like more detailed information, feel free to ask!\n"
     ]
    }
   ],
   "source": [
    "print(res.content)"
   ]
  },
  {
   "cell_type": "code",
   "execution_count": 30,
   "metadata": {},
   "outputs": [
    {
     "name": "stdout",
     "output_type": "stream",
     "text": [
      "The Flamingo model is a visual language model developed for few-shot learning tasks in multimodal machine learning research. It is capable of rapidly adapting to novel tasks using only a handful of annotated examples. The Flamingo model bridges pretrained vision-only and language-only models, handles sequences of visual and textual data, and can ingest images or videos as inputs. By training on large-scale multimodal corpora, the Flamingo model is endowed with in-context few-shot learning capabilities. It generates language conditioned on interleaved text and image sequences and can be fine-tuned for specific domains, such as the medical domain, while maintaining its generalization ability.\n"
     ]
    }
   ],
   "source": [
    "# create a new user prompt using FAISS vector db\n",
    "prompt = HumanMessage(\n",
    "    content=generate_rag_prompt(query, embed_model, index, k=3)\n",
    ")\n",
    "# add to messages\n",
    "messages.append(prompt)\n",
    "\n",
    "res = chat(messages)\n",
    "\n",
    "print(res.content)"
   ]
  },
  {
   "cell_type": "markdown",
   "metadata": {},
   "source": [
    "## User friendly chatbot"
   ]
  },
  {
   "cell_type": "code",
   "execution_count": 31,
   "metadata": {},
   "outputs": [],
   "source": [
    "# Initialize the chat model with OpenAI API key and model specification\n",
    "chat = ChatOpenAI(\n",
    "    openai_api_key=os.environ[\"OPENAI_API_KEY\"],\n",
    "    model='gpt-3.5-turbo'\n",
    ")\n",
    "\n",
    "# Start with a system message to define the chatbot's role\n",
    "messages = [SystemMessage(content=\"You are a helpful assistant.\")]\n",
    "\n",
    "# Function to add a new human message and get the AI's response\n",
    "def add_message_and_get_response(user_input):\n",
    "    human_msg = HumanMessage(content=user_input)\n",
    "    messages.append(human_msg)\n",
    "    \n",
    "    # Optionally, generate a prompt from the user input using your custom function (if needed)\n",
    "    # For a more complex interaction where you need to generate a prompt based on external data or processing\n",
    "    prompt = generate_rag_prompt(user_input, embed_model, index, k=3)\n",
    "    messages.append(HumanMessage(content=prompt))\n",
    "\n",
    "    # Get the response from the chat model\n",
    "    res = chat(messages)\n",
    "    \n",
    "    # Add the AI response to the messages history\n",
    "    messages.append(AIMessage(content=res.content))\n",
    "    \n",
    "    print(f\"User: {user_input}\")\n",
    "    print(f\"AI: {res.content}\")\n",
    "    print(\"\\n\")"
   ]
  },
  {
   "cell_type": "code",
   "execution_count": 32,
   "metadata": {},
   "outputs": [
    {
     "name": "stdout",
     "output_type": "stream",
     "text": [
      "Chatbot: Hi! I'm your helpful assistant. How can I help you today? Type 'exit' to end the conversation.\n",
      "User: What is the flamingo model?\n",
      "AI: The Flamingo model is a family of Visual Language Models (VLM) designed for few-shot learning tasks. It incorporates architectural innovations to bridge pretrained vision-only and language-only models, handle sequences of visual and textual data, and seamlessly process images or videos as inputs. Flamingo models are trained on large-scale multimodal corpora containing interleaved text and images, enabling rapid adaptation to novel tasks with minimal annotated examples. The model has been evaluated for various tasks such as visual question-answering and demonstrates the ability to adapt quickly to different image and video tasks.\n",
      "\n",
      "\n",
      "User: what are some use cases for it?\n",
      "AI: Some potential use cases for the Flamingo model include:\n",
      "\n",
      "1. Few-shot Learning: Flamingo can be utilized for tasks where a model needs to adapt quickly to new tasks with minimal annotated examples, making it suitable for scenarios where data is limited.\n",
      "\n",
      "2. Visual Question-Answering: The model can be applied to tasks that involve answering questions based on visual content, demonstrating its ability to understand and generate responses to queries related to images and videos.\n",
      "\n",
      "3. Multimodal Data Processing: Flamingo's capability to handle sequences of interleaved visual and textual data makes it well-suited for processing and generating insights from diverse types of data sources, such as text and images.\n",
      "\n",
      "4. Domain-Specific Applications: The model's flexibility allows for domain-specific adaptations, as seen in the example of enhancing Flamingo with a medical encoder for medical domain tasks, showcasing its potential for specialized applications.\n",
      "\n",
      "Overall, Flamingo's versatility and ability to handle multimodal data make it applicable to various tasks requiring efficient adaptation and understanding of both visual and textual information.\n",
      "\n",
      "\n",
      "User: why is this model a breakthough?\n",
      "AI: The Flamingo model represents a breakthrough in the field of multimodal machine learning research for several reasons:\n",
      "\n",
      "1. **Few-Shot Learning Capabilities:** One of the key challenges in machine learning is the ability to adapt quickly to new tasks with only a few annotated examples. Flamingo addresses this challenge by demonstrating remarkable few-shot learning capabilities, enabling rapid adaptation to novel tasks with minimal labeled data.\n",
      "\n",
      "2. **Architectural Innovations:** Flamingo introduces key architectural innovations that bridge pretrained vision-only and language-only models, handle sequences of interleaved visual and textual data, and seamlessly process images or videos as inputs. These innovations enhance the model's flexibility and adaptability to diverse types of data.\n",
      "\n",
      "3. **Multimodal Processing:** The model's ability to process and generate insights from multimodal data, such as text and images, is a significant advancement. Flamingo can effectively handle sequences of interleaved text and image data, making it suitable for tasks that require understanding and reasoning across different modalities.\n",
      "\n",
      "4. **Domain-Specific Adaptations:** Flamingo's flexibility allows for domain-specific adaptations, as demonstrated by the example of enhancing the model with a medical encoder for specialized medical domain tasks. This capability showcases the model's versatility and potential for application in various domains.\n",
      "\n",
      "5. **Thorough Evaluation:** The thorough evaluation of Flamingo models, including measuring their ability to rapidly adapt to a variety of image and video tasks, provides empirical evidence of the model's effectiveness and performance in real-world scenarios.\n",
      "\n",
      "In summary, the Flamingo model's combination of few-shot learning capabilities, architectural innovations, multimodal processing abilities, domain-specific adaptability, and rigorous evaluation make it a breakthrough in multimodal machine learning research.\n",
      "\n",
      "\n",
      "User: what is the perceiver resampler?\n",
      "AI: The perceiver resampler is a component within the Flamingo model that plays a crucial role in generating language conditioned on interleaved text and image sequences. Specifically, the perceiver resampler connects the visual encoder and the Language-to-Language Model (LLM) in the Flamingo architecture.\n",
      "\n",
      "The perceiver resampler is responsible for modeling the likelihood of text output conditioned on interleaved image and text input. It operates as a next-token prediction task within the Flamingo model, contributing to the model's ability to generate meaningful language responses based on the input sequences of images and text.\n",
      "\n",
      "In summary, the perceiver resampler in the Flamingo model helps facilitate the integration of visual and textual information, enabling the model to process and generate language outputs based on sequences of both image and text data.\n",
      "\n",
      "\n"
     ]
    }
   ],
   "source": [
    "# Welcome message to the user\n",
    "print(\"Chatbot: Hi! I'm your helpful assistant. How can I help you today? Type 'exit' to end the conversation.\")\n",
    "\n",
    "# Main loop to keep the chat going\n",
    "while True:\n",
    "    user_input = input(\"You: \")\n",
    "    if user_input.lower() == 'exit':\n",
    "        break\n",
    "    add_message_and_get_response(user_input)"
   ]
  }
 ],
 "metadata": {
  "kernelspec": {
   "display_name": "Python 3",
   "language": "python",
   "name": "python3"
  },
  "language_info": {
   "codemirror_mode": {
    "name": "ipython",
    "version": 3
   },
   "file_extension": ".py",
   "mimetype": "text/x-python",
   "name": "python",
   "nbconvert_exporter": "python",
   "pygments_lexer": "ipython3",
   "version": "3.10.11"
  }
 },
 "nbformat": 4,
 "nbformat_minor": 2
}
